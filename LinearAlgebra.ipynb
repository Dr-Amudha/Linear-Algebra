{
  "nbformat": 4,
  "nbformat_minor": 0,
  "metadata": {
    "colab": {
      "provenance": []
    },
    "kernelspec": {
      "name": "python3",
      "display_name": "Python 3"
    },
    "language_info": {
      "name": "python"
    }
  },
  "cells": [
    {
      "cell_type": "code",
      "execution_count": 1,
      "metadata": {
        "colab": {
          "base_uri": "https://localhost:8080/"
        },
        "id": "DR5px8YSEBcu",
        "outputId": "97a0a88f-ca4a-4237-a055-79804dbc0243"
      },
      "outputs": [
        {
          "output_type": "execute_result",
          "data": {
            "text/plain": [
              "ThemeRegistry.enable('dark')"
            ]
          },
          "metadata": {},
          "execution_count": 1
        }
      ],
      "source": [
        "# Libraries for this section \n",
        "import numpy as np\n",
        "import pandas as pd\n",
        "import altair as alt\n",
        "alt.themes.enable('dark')\n"
      ]
    },
    {
      "cell_type": "code",
      "source": [
        "x = np.array([[1],\n",
        "              [2],\n",
        "              [3]])\n"
      ],
      "metadata": {
        "id": "HdE0vd9iETj3"
      },
      "execution_count": 2,
      "outputs": []
    },
    {
      "cell_type": "code",
      "source": [
        "x.shape # (3 dimensions, 1 element on each)"
      ],
      "metadata": {
        "colab": {
          "base_uri": "https://localhost:8080/"
        },
        "id": "69769ohTEYRw",
        "outputId": "9d5e393d-57ef-414a-d64a-5352814fa0a2"
      },
      "execution_count": 3,
      "outputs": [
        {
          "output_type": "execute_result",
          "data": {
            "text/plain": [
              "(3, 1)"
            ]
          },
          "metadata": {},
          "execution_count": 3
        }
      ]
    },
    {
      "cell_type": "code",
      "source": [
        "print(f'A 3-dimensional vector:\\n{x}')\n"
      ],
      "metadata": {
        "colab": {
          "base_uri": "https://localhost:8080/"
        },
        "id": "_hR2bdyuE-zR",
        "outputId": "da357101-d71b-48e5-95c7-91d8664e2e2a"
      },
      "execution_count": 4,
      "outputs": [
        {
          "output_type": "stream",
          "name": "stdout",
          "text": [
            "A 3-dimensional vector:\n",
            "[[1]\n",
            " [2]\n",
            " [3]]\n"
          ]
        }
      ]
    },
    {
      "cell_type": "code",
      "source": [
        "#Basic Vector Operations\n",
        "x = y = np.array([[1],\n",
        "                  [2],\n",
        "                  [3]])\n"
      ],
      "metadata": {
        "id": "a4Q8Ky1cGkn1"
      },
      "execution_count": 5,
      "outputs": []
    },
    {
      "cell_type": "code",
      "source": [
        "x + y\n"
      ],
      "metadata": {
        "colab": {
          "base_uri": "https://localhost:8080/"
        },
        "id": "WoTIZlFFGrl0",
        "outputId": "49b0d9d6-59bf-4c46-b1af-69f6e27500a4"
      },
      "execution_count": 6,
      "outputs": [
        {
          "output_type": "execute_result",
          "data": {
            "text/plain": [
              "array([[2],\n",
              "       [4],\n",
              "       [6]])"
            ]
          },
          "metadata": {},
          "execution_count": 6
        }
      ]
    },
    {
      "cell_type": "code",
      "source": [
        "np.add(x,y)\n"
      ],
      "metadata": {
        "colab": {
          "base_uri": "https://localhost:8080/"
        },
        "id": "oZXV4g-pGt8m",
        "outputId": "6cd3d115-b5ea-46c0-c353-86eb5cf1605e"
      },
      "execution_count": 7,
      "outputs": [
        {
          "output_type": "execute_result",
          "data": {
            "text/plain": [
              "array([[2],\n",
              "       [4],\n",
              "       [6]])"
            ]
          },
          "metadata": {},
          "execution_count": 7
        }
      ]
    },
    {
      "cell_type": "code",
      "source": [
        "#Vector Scalar Multiplications\n",
        "alpha = 2\n",
        "x = np.array([[1],\n",
        "             [2],\n",
        "             [3]])\n"
      ],
      "metadata": {
        "id": "5v0b9dzsG8b4"
      },
      "execution_count": 8,
      "outputs": []
    },
    {
      "cell_type": "code",
      "source": [
        "alpha * x\n"
      ],
      "metadata": {
        "colab": {
          "base_uri": "https://localhost:8080/"
        },
        "id": "3NB3yGZ3HCWx",
        "outputId": "b49c5065-e0b3-45ed-9406-5beea5589c72"
      },
      "execution_count": 9,
      "outputs": [
        {
          "output_type": "execute_result",
          "data": {
            "text/plain": [
              "array([[2],\n",
              "       [4],\n",
              "       [6]])"
            ]
          },
          "metadata": {},
          "execution_count": 9
        }
      ]
    },
    {
      "cell_type": "code",
      "source": [
        "#Linear combinations of vectors\n",
        "a, b = 2, 3\n",
        "x , y = np.array([[2],[3]]), np.array([[4], [5]])\n"
      ],
      "metadata": {
        "id": "eVN36qQmHHFV"
      },
      "execution_count": 10,
      "outputs": []
    },
    {
      "cell_type": "code",
      "source": [
        "a*x + b*y\n"
      ],
      "metadata": {
        "colab": {
          "base_uri": "https://localhost:8080/"
        },
        "id": "2mLcrPlcHUKe",
        "outputId": "ae489d39-66b6-4c3e-ac61-de2298c23db2"
      },
      "execution_count": 11,
      "outputs": [
        {
          "output_type": "execute_result",
          "data": {
            "text/plain": [
              "array([[16],\n",
              "       [21]])"
            ]
          },
          "metadata": {},
          "execution_count": 11
        }
      ]
    },
    {
      "cell_type": "code",
      "source": [
        "#Vector-vector multiplication: dot product\n",
        "x, y = np.array([[-2],[2]]), np.array([[4],[-3]])\n"
      ],
      "metadata": {
        "id": "ALcgV-csHX0x"
      },
      "execution_count": 12,
      "outputs": []
    },
    {
      "cell_type": "code",
      "source": [
        "x.T @ y\n"
      ],
      "metadata": {
        "colab": {
          "base_uri": "https://localhost:8080/"
        },
        "id": "_PEHQHFwHf_u",
        "outputId": "6962a0f5-11d7-4f84-f1fb-2f71ae63be83"
      },
      "execution_count": 13,
      "outputs": [
        {
          "output_type": "execute_result",
          "data": {
            "text/plain": [
              "array([[-14]])"
            ]
          },
          "metadata": {},
          "execution_count": 13
        }
      ]
    },
    {
      "cell_type": "code",
      "source": [
        "#Matrices\n",
        "# Libraries for this section \n",
        "import numpy as np\n",
        "import pandas as pd\n",
        "import altair as alt\n"
      ],
      "metadata": {
        "id": "7wpQYS3xH1qi"
      },
      "execution_count": 14,
      "outputs": []
    },
    {
      "cell_type": "code",
      "source": [
        "A = np.array([[0,2],  # 1st row\n",
        "              [1,4]]) # 2nd row\n",
        "\n",
        "print(f'a 2x2 Matrix:\\n{A}')\n"
      ],
      "metadata": {
        "colab": {
          "base_uri": "https://localhost:8080/"
        },
        "id": "nh6Lq6AdH8Kr",
        "outputId": "49f888ec-939a-49df-b522-da61df85bb21"
      },
      "execution_count": 15,
      "outputs": [
        {
          "output_type": "stream",
          "name": "stdout",
          "text": [
            "a 2x2 Matrix:\n",
            "[[0 2]\n",
            " [1 4]]\n"
          ]
        }
      ]
    },
    {
      "cell_type": "code",
      "source": [
        "#Matrix Addition\n",
        "A = np.array([[0,2],\n",
        "              [1,4]])\n",
        "B = np.array([[3,1],\n",
        "              [-3,2]])\n",
        "A+B"
      ],
      "metadata": {
        "colab": {
          "base_uri": "https://localhost:8080/"
        },
        "id": "qB5jVcxcIBzI",
        "outputId": "20a55cdd-6bc5-4d17-99c0-428ec248e04f"
      },
      "execution_count": 16,
      "outputs": [
        {
          "output_type": "execute_result",
          "data": {
            "text/plain": [
              "array([[ 3,  3],\n",
              "       [-2,  6]])"
            ]
          },
          "metadata": {},
          "execution_count": 16
        }
      ]
    },
    {
      "cell_type": "code",
      "source": [
        "#Matrix-scalar multiplication\n",
        "alpha = 2\n",
        "A = np.array([[1,2],\n",
        "              [3,4]])\n",
        "alpha * A\n"
      ],
      "metadata": {
        "colab": {
          "base_uri": "https://localhost:8080/"
        },
        "id": "CGOnPr1gIKCi",
        "outputId": "a4842636-3e80-46d0-bec9-a58969575e80"
      },
      "execution_count": 17,
      "outputs": [
        {
          "output_type": "execute_result",
          "data": {
            "text/plain": [
              "array([[2, 4],\n",
              "       [6, 8]])"
            ]
          },
          "metadata": {},
          "execution_count": 17
        }
      ]
    },
    {
      "cell_type": "code",
      "source": [
        "np.multiply(alpha, A)\n"
      ],
      "metadata": {
        "colab": {
          "base_uri": "https://localhost:8080/"
        },
        "id": "zqcKJBmMITLh",
        "outputId": "5eab947b-945b-43eb-87bf-2238146586a4"
      },
      "execution_count": 18,
      "outputs": [
        {
          "output_type": "execute_result",
          "data": {
            "text/plain": [
              "array([[2, 4],\n",
              "       [6, 8]])"
            ]
          },
          "metadata": {},
          "execution_count": 18
        }
      ]
    },
    {
      "cell_type": "code",
      "source": [
        "#Matrix-vector multiplication: dot product\n",
        "A = np.array([[0,2],\n",
        "              [1,4]])\n",
        "x = np.array([[1],\n",
        "              [2]])\n",
        "A @ x\n"
      ],
      "metadata": {
        "colab": {
          "base_uri": "https://localhost:8080/"
        },
        "id": "ZBV9pBEUIYK5",
        "outputId": "678e9790-4978-4d77-a3f1-518f11309c5f"
      },
      "execution_count": 19,
      "outputs": [
        {
          "output_type": "execute_result",
          "data": {
            "text/plain": [
              "array([[4],\n",
              "       [9]])"
            ]
          },
          "metadata": {},
          "execution_count": 19
        }
      ]
    },
    {
      "cell_type": "code",
      "source": [
        "np.dot(A, x)\n"
      ],
      "metadata": {
        "colab": {
          "base_uri": "https://localhost:8080/"
        },
        "id": "o1X6CseOIhHc",
        "outputId": "cb1a66a0-1983-48b8-8c92-6deab3b176b4"
      },
      "execution_count": 20,
      "outputs": [
        {
          "output_type": "execute_result",
          "data": {
            "text/plain": [
              "array([[4],\n",
              "       [9]])"
            ]
          },
          "metadata": {},
          "execution_count": 20
        }
      ]
    },
    {
      "cell_type": "code",
      "source": [
        "#Matrix-matrix multiplication\n",
        "A = np.array([[0,2],\n",
        "              [1,4]])\n",
        "B = np.array([[1,3],\n",
        "              [2,1]])\n",
        "A @ B\n"
      ],
      "metadata": {
        "colab": {
          "base_uri": "https://localhost:8080/"
        },
        "id": "9Xa5V_akIlLS",
        "outputId": "1f1cf24b-6bb4-40b5-9e62-1e2acd8be780"
      },
      "execution_count": 21,
      "outputs": [
        {
          "output_type": "execute_result",
          "data": {
            "text/plain": [
              "array([[4, 2],\n",
              "       [9, 7]])"
            ]
          },
          "metadata": {},
          "execution_count": 21
        }
      ]
    },
    {
      "cell_type": "code",
      "source": [
        "#Matrix transpose\n",
        "A = np.array([[1, 2],\n",
        "              [3, 4],\n",
        "              [5, 6]])\n",
        "A.T\n"
      ],
      "metadata": {
        "colab": {
          "base_uri": "https://localhost:8080/"
        },
        "id": "Ty5YVTeUI7zR",
        "outputId": "95e8f0fb-5eaa-4efc-efc4-0e7138da06ba"
      },
      "execution_count": 22,
      "outputs": [
        {
          "output_type": "execute_result",
          "data": {
            "text/plain": [
              "array([[1, 3, 5],\n",
              "       [2, 4, 6]])"
            ]
          },
          "metadata": {},
          "execution_count": 22
        }
      ]
    }
  ]
}